{
 "cells": [
  {
   "cell_type": "markdown",
   "metadata": {},
   "source": [
    "# Exam Question 2 Nadine Kanbier 4283724"
   ]
  },
  {
   "cell_type": "markdown",
   "metadata": {},
   "source": [
    "## Question 2"
   ]
  },
  {
   "cell_type": "markdown",
   "metadata": {},
   "source": [
    "###### Choose two genres from the song dataset from exercise 3.1 to examine and compare the gender bias in songs of both genres. Explain why the two genres you choose are relevant to compare in this context, and formulate a hypothesis. Train two word embeddings models (one for each genre), and use the lists of female and male words uploaded to BB (Assignments / exam 1 / question 2) for your analysis. Compare the biases between the two genres you choose using the method by Wevers. Interpret the results and relate them to your hypothesis.\n",
    "\n",
    "##### Your answer must consist of the following:\n",
    "##### • A statement on the relevance of your comparison and the hypothesis (ca.150 words)\n",
    "##### • The complete code to answer the question with a short comment for every step (max 2 sentences per step)\n",
    "##### • Interpretation and conclusion (ca. 200 words)"
   ]
  },
  {
   "cell_type": "markdown",
   "metadata": {},
   "source": [
    "I will be comparing the gender bias in Pop music versus the gender bias in Country music. Country music is more popular in the rural and conservative states of the United States (see https://trends.google.com/trends/explore?date=all&geo=US&q=%2Fm%2F064t9,%2Fm%2F01lyv). Because rural and conservative states tend towards more 'traditional' gender roles (i.e. women more associated with family and men with work), I will specifically compare differences in family and work related words.\n",
    "    \n",
    "Pop music is more popular in the more liberal and progressive states. I expect a more modern approach towards women in pop music. That being said, I expect there will still be a bias towards women, only less strong than that in Country music. \n",
    "\n",
    "Therefore, it is hypothesized that there is a stronger bias in family-related words towards women in Country music than in Pop music. It is also hypothesized that there is a stronger bias in work-related words towards men in Country music than in Pop music."
   ]
  },
  {
   "cell_type": "code",
   "execution_count": 7,
   "metadata": {},
   "outputs": [],
   "source": [
    "# First, load the data with the correction path. \n",
    "import pandas as pd\n",
    "import pickle\n",
    "\n",
    "df = pd.read_csv('english_cleaned_lyrics.csv')\n",
    "\n",
    "PATH_DF = '/Users/nadinekanbier/Desktop/Applied Data Science/Periode 2/Data Mining/Assignment/english_cleaned_lyrics.csv'\n",
    "PATH_CORRECTION = '/Users/nadinekanbier/Desktop/Applied Data Science/Periode 2/Data Mining/Assignment/indx2newdate.p'\n",
    "\n",
    "def load_dataset(data_path, path_correction):\n",
    "    df = pd.read_csv(data_path)\n",
    "    indx2newdate = pickle.load(open(PATH_CORRECTION, 'rb'))\n",
    "    df['year'] = df['index'].apply(lambda x: int(indx2newdate[x][0][:4]) if indx2newdate[x][0] != '' else 0)\n",
    "    return df[df.year > 1960][['song', 'year', 'artist', 'genre', 'lyrics']]\n",
    "    \n",
    "dataset = load_dataset(PATH_DF, PATH_CORRECTION)"
   ]
  },
  {
   "cell_type": "code",
   "execution_count": 9,
   "metadata": {},
   "outputs": [],
   "source": [
    "# Split the datasets for the genres I want to compare: country and pop.\n",
    "country = dataset.lyrics[dataset.genre == 'Country']\n",
    "pop = dataset.lyrics[dataset.genre == 'Pop']"
   ]
  },
  {
   "cell_type": "code",
   "execution_count": 10,
   "metadata": {},
   "outputs": [],
   "source": [
    "# tokenize the text\n",
    "import spacy\n",
    "\n",
    "nlp = spacy.load(\"en_core_web_sm\")\n",
    "processed_country = [text for text in nlp.pipe(country, \n",
    "                                              disable=[\"ner\",\n",
    "                                                       \"parser\"])]\n",
    "\n",
    "tokenized_country = [[word.text for word in text if not word.is_punct] \n",
    "                    for text in processed_country]\n",
    "\n",
    "processed_pop = [text for text in nlp.pipe(pop, \n",
    "                                              disable=[\"ner\",\n",
    "                                                       \"parser\"])]\n",
    "\n",
    "tokenized_pop = [[word.text for word in text if not word.is_punct] \n",
    "                    for text in processed_pop]"
   ]
  },
  {
   "cell_type": "code",
   "execution_count": 11,
   "metadata": {},
   "outputs": [
    {
     "data": {
      "text/plain": [
       "(8126886, 10779570)"
      ]
     },
     "execution_count": 11,
     "metadata": {},
     "output_type": "execute_result"
    }
   ],
   "source": [
    "# Training a word embedding for the country lyrics.\n",
    "import gensim\n",
    "from gensim.models import Word2Vec\n",
    "\n",
    "SIZE = 300 # dimensions of the embeddings\n",
    "SG = 1 # whether to use skip-gram or CBOW (we use skip-gram)\n",
    "WINDOW = 10 # the window size\n",
    "N_WORKERS = 1 # number of workers to use\n",
    "MIN_COUNT = 1\n",
    "\n",
    "model = Word2Vec(size=SIZE,\n",
    "                sg=SG,\n",
    "                window=WINDOW, \n",
    "                min_count=MIN_COUNT,\n",
    "                workers=N_WORKERS)\n",
    "\n",
    "model.build_vocab(tokenized_country)\n",
    "\n",
    "model.train(tokenized_country,\n",
    "           total_examples=model.corpus_count,\n",
    "           epochs=model.epochs) "
   ]
  },
  {
   "cell_type": "code",
   "execution_count": 12,
   "metadata": {},
   "outputs": [
    {
     "data": {
      "text/plain": [
       "(22203431, 30293585)"
      ]
     },
     "execution_count": 12,
     "metadata": {},
     "output_type": "execute_result"
    }
   ],
   "source": [
    "# Training a word embedding model for the pop lyrics.\n",
    "import gensim\n",
    "from gensim.models import Word2Vec\n",
    "\n",
    "SIZE = 300 # dimensions of the embeddings\n",
    "SG = 1 # whether to use skip-gram or CBOW (we use skip-gram)\n",
    "WINDOW = 10 # the window size\n",
    "N_WORKERS = 1 # number of workers to use\n",
    "MIN_COUNT = 1\n",
    "\n",
    "model2 = Word2Vec(size=SIZE,\n",
    "                sg=SG,\n",
    "                window=WINDOW, \n",
    "                min_count=MIN_COUNT,\n",
    "                workers=N_WORKERS)\n",
    "\n",
    "model2.build_vocab(tokenized_pop)\n",
    "\n",
    "model2.train(tokenized_pop,\n",
    "           total_examples=model.corpus_count,\n",
    "           epochs=model.epochs) "
   ]
  },
  {
   "cell_type": "code",
   "execution_count": 17,
   "metadata": {},
   "outputs": [],
   "source": [
    "# import list of male and female words.\n",
    "import numpy as np\n",
    "\n",
    "male = pd.read_pickle('male_words.p')\n",
    "female = pd.read_pickle('female_words.p')"
   ]
  },
  {
   "cell_type": "code",
   "execution_count": 31,
   "metadata": {},
   "outputs": [],
   "source": [
    "# checks if word is in vocabulary (i.e. has been seen by the model before)\n",
    "male_words_country = [word for word in male if word in model.wv.vocab]\n",
    "male_words_pop = [word for word in male if word in model2.wv.vocab]\n",
    "female_words_country = [word for word in female if word in model.wv.vocab]\n",
    "female_words_pop = [word for word in female if word in model2.wv.vocab]"
   ]
  },
  {
   "cell_type": "code",
   "execution_count": 37,
   "metadata": {},
   "outputs": [
    {
     "name": "stdout",
     "output_type": "stream",
     "text": [
      "(300,)\n"
     ]
    }
   ],
   "source": [
    "# mean embedding for female words in pop\n",
    "mean_embed_fem = np.mean([model2.wv[word] for word in female_words_pop], axis = 0)\n",
    "print(mean_embed_fem.shape)"
   ]
  },
  {
   "cell_type": "code",
   "execution_count": 38,
   "metadata": {},
   "outputs": [
    {
     "name": "stdout",
     "output_type": "stream",
     "text": [
      "(300,)\n"
     ]
    }
   ],
   "source": [
    "# mean embedding for male words in pop\n",
    "mean_embed_male = np.mean([model2.wv[word] for word in male_words_pop], axis = 0)\n",
    "print(mean_embed_male.shape)"
   ]
  },
  {
   "cell_type": "code",
   "execution_count": 39,
   "metadata": {},
   "outputs": [
    {
     "name": "stdout",
     "output_type": "stream",
     "text": [
      "(300,)\n"
     ]
    }
   ],
   "source": [
    "# mean embedding for male words in country\n",
    "mean_embed_male_c = np.mean([model.wv[word] for word in male_words_country], axis = 0)\n",
    "print(mean_embed_male.shape)"
   ]
  },
  {
   "cell_type": "code",
   "execution_count": 40,
   "metadata": {},
   "outputs": [
    {
     "name": "stdout",
     "output_type": "stream",
     "text": [
      "(300,)\n"
     ]
    }
   ],
   "source": [
    "# mean embedding for female words in country\n",
    "mean_embed_female_c = np.mean([model.wv[word] for word in female_words_country], axis = 0)\n",
    "print(mean_embed_male.shape)"
   ]
  },
  {
   "cell_type": "code",
   "execution_count": 41,
   "metadata": {},
   "outputs": [],
   "source": [
    "# loading categorical words\n",
    "cat_data = pd.read_csv(\"word_cats.csv\")"
   ]
  },
  {
   "cell_type": "code",
   "execution_count": 143,
   "metadata": {},
   "outputs": [],
   "source": [
    "categories = cat_data.columns"
   ]
  },
  {
   "cell_type": "code",
   "execution_count": 144,
   "metadata": {
    "scrolled": true
   },
   "outputs": [
    {
     "data": {
      "text/html": [
       "<div>\n",
       "<style scoped>\n",
       "    .dataframe tbody tr th:only-of-type {\n",
       "        vertical-align: middle;\n",
       "    }\n",
       "\n",
       "    .dataframe tbody tr th {\n",
       "        vertical-align: top;\n",
       "    }\n",
       "\n",
       "    .dataframe thead th {\n",
       "        text-align: right;\n",
       "    }\n",
       "</style>\n",
       "<table border=\"1\" class=\"dataframe\">\n",
       "  <thead>\n",
       "    <tr style=\"text-align: right;\">\n",
       "      <th></th>\n",
       "      <th>word</th>\n",
       "      <th>bias</th>\n",
       "    </tr>\n",
       "  </thead>\n",
       "  <tbody>\n",
       "    <tr>\n",
       "      <th>2</th>\n",
       "      <td>family</td>\n",
       "      <td>0.050389</td>\n",
       "    </tr>\n",
       "    <tr>\n",
       "      <th>5</th>\n",
       "      <td>leisure</td>\n",
       "      <td>0.049098</td>\n",
       "    </tr>\n",
       "    <tr>\n",
       "      <th>0</th>\n",
       "      <td>affect</td>\n",
       "      <td>0.019810</td>\n",
       "    </tr>\n",
       "    <tr>\n",
       "      <th>3</th>\n",
       "      <td>body</td>\n",
       "      <td>0.011299</td>\n",
       "    </tr>\n",
       "    <tr>\n",
       "      <th>6</th>\n",
       "      <td>money</td>\n",
       "      <td>0.000065</td>\n",
       "    </tr>\n",
       "    <tr>\n",
       "      <th>4</th>\n",
       "      <td>work</td>\n",
       "      <td>-0.005069</td>\n",
       "    </tr>\n",
       "    <tr>\n",
       "      <th>1</th>\n",
       "      <td>social</td>\n",
       "      <td>-0.006579</td>\n",
       "    </tr>\n",
       "    <tr>\n",
       "      <th>7</th>\n",
       "      <td>occupation</td>\n",
       "      <td>-0.018106</td>\n",
       "    </tr>\n",
       "  </tbody>\n",
       "</table>\n",
       "</div>"
      ],
      "text/plain": [
       "         word      bias\n",
       "2      family  0.050389\n",
       "5     leisure  0.049098\n",
       "0      affect  0.019810\n",
       "3        body  0.011299\n",
       "6       money  0.000065\n",
       "4        work -0.005069\n",
       "1      social -0.006579\n",
       "7  occupation -0.018106"
      ]
     },
     "execution_count": 144,
     "metadata": {},
     "output_type": "execute_result"
    }
   ],
   "source": [
    "# calculating bias for the categories, trained with pop word embedding model\n",
    "import pandas as pd\n",
    "# Initialize objects for the loop\n",
    "biases = {}\n",
    "lst_bias = []\n",
    "lst_meanbias = []\n",
    "for word in categories:\n",
    "    if word in model2.wv.vocab:\n",
    "        dist_male = np.linalg.norm(np.subtract(model2.wv[word], mean_embed_male))\n",
    "        dist_female = np.linalg.norm(np.subtract(model2.wv[word], mean_embed_fem))\n",
    "        biases = {'word': word,\n",
    "                 'bias': (dist_male - dist_female)}\n",
    "        lst_bias.append(biases)\n",
    "df_bias_pop_work = pd.DataFrame(lst_bias)\n",
    "df_bias_pop_work.sort_values('bias', ascending = False)"
   ]
  },
  {
   "cell_type": "code",
   "execution_count": 145,
   "metadata": {
    "scrolled": true
   },
   "outputs": [
    {
     "data": {
      "text/html": [
       "<div>\n",
       "<style scoped>\n",
       "    .dataframe tbody tr th:only-of-type {\n",
       "        vertical-align: middle;\n",
       "    }\n",
       "\n",
       "    .dataframe tbody tr th {\n",
       "        vertical-align: top;\n",
       "    }\n",
       "\n",
       "    .dataframe thead th {\n",
       "        text-align: right;\n",
       "    }\n",
       "</style>\n",
       "<table border=\"1\" class=\"dataframe\">\n",
       "  <thead>\n",
       "    <tr style=\"text-align: right;\">\n",
       "      <th></th>\n",
       "      <th>word</th>\n",
       "      <th>bias</th>\n",
       "    </tr>\n",
       "  </thead>\n",
       "  <tbody>\n",
       "    <tr>\n",
       "      <th>3</th>\n",
       "      <td>body</td>\n",
       "      <td>0.082413</td>\n",
       "    </tr>\n",
       "    <tr>\n",
       "      <th>2</th>\n",
       "      <td>family</td>\n",
       "      <td>0.025205</td>\n",
       "    </tr>\n",
       "    <tr>\n",
       "      <th>4</th>\n",
       "      <td>work</td>\n",
       "      <td>0.009881</td>\n",
       "    </tr>\n",
       "    <tr>\n",
       "      <th>6</th>\n",
       "      <td>money</td>\n",
       "      <td>0.000149</td>\n",
       "    </tr>\n",
       "    <tr>\n",
       "      <th>1</th>\n",
       "      <td>social</td>\n",
       "      <td>-0.009652</td>\n",
       "    </tr>\n",
       "    <tr>\n",
       "      <th>0</th>\n",
       "      <td>affect</td>\n",
       "      <td>-0.049788</td>\n",
       "    </tr>\n",
       "    <tr>\n",
       "      <th>7</th>\n",
       "      <td>occupation</td>\n",
       "      <td>-0.076094</td>\n",
       "    </tr>\n",
       "    <tr>\n",
       "      <th>5</th>\n",
       "      <td>leisure</td>\n",
       "      <td>-0.202300</td>\n",
       "    </tr>\n",
       "  </tbody>\n",
       "</table>\n",
       "</div>"
      ],
      "text/plain": [
       "         word      bias\n",
       "3        body  0.082413\n",
       "2      family  0.025205\n",
       "4        work  0.009881\n",
       "6       money  0.000149\n",
       "1      social -0.009652\n",
       "0      affect -0.049788\n",
       "7  occupation -0.076094\n",
       "5     leisure -0.202300"
      ]
     },
     "execution_count": 145,
     "metadata": {},
     "output_type": "execute_result"
    }
   ],
   "source": [
    "# calculating bias for categories, trained with country word embedding model\n",
    "import pandas as pd\n",
    "# Initialize objects for the loop\n",
    "biases = {}\n",
    "lst_bias = []\n",
    "lst_meanbias = []\n",
    "for word in categories:\n",
    "    if word in model.wv.vocab:\n",
    "        dist_male = np.linalg.norm(np.subtract(model.wv[word], mean_embed_male_c))\n",
    "        dist_female = np.linalg.norm(np.subtract(model.wv[word], mean_embed_female_c))\n",
    "        biases = {'word': word,\n",
    "                 'bias': (dist_male - dist_female)}\n",
    "        lst_bias.append(biases)\n",
    "df_bias_country_work = pd.DataFrame(lst_bias)\n",
    "df_bias_country_work.sort_values('bias', ascending = False)"
   ]
  },
  {
   "cell_type": "markdown",
   "metadata": {},
   "source": [
    "It was hypothesized that there is a stronger bias in family-related words towards women in Country music than in Pop music (H1). It was also hypothesized that there is a stronger bias in work-related words towards men in Country music than in Pop music (H2).\n",
    "\n",
    "H1 can be rejected: there is a stronger bias for family-related words in the model that was trained with Pop lyrics (0.05 vs. 0.03). This means that pop lyrics are more biased towards women when it comes to family-related words. \n",
    "H2 can also be rejected: there is a bias towards men in work-related words in the model that was trained with Pop music (-0.005). However, in Country music work-related words are biased towards women (0.01). \n",
    "\n",
    "In conclusion, Country music might be more progressive than we expected. According to our results, Country music is less biased towards women than Pop music when it comes to family and work related words. \n",
    "\n",
    "Overall, the number of categories trained with the Pop lyrics are more biased towards women than men compared to the Country music."
   ]
  },
  {
   "cell_type": "code",
   "execution_count": null,
   "metadata": {},
   "outputs": [],
   "source": []
  }
 ],
 "metadata": {
  "kernelspec": {
   "display_name": "Python 3",
   "language": "python",
   "name": "python3"
  },
  "language_info": {
   "codemirror_mode": {
    "name": "ipython",
    "version": 3
   },
   "file_extension": ".py",
   "mimetype": "text/x-python",
   "name": "python",
   "nbconvert_exporter": "python",
   "pygments_lexer": "ipython3",
   "version": "3.8.3"
  }
 },
 "nbformat": 4,
 "nbformat_minor": 4
}
